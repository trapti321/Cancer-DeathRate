{
 "cells": [
  {
   "cell_type": "markdown",
   "id": "28b642cf",
   "metadata": {},
   "source": [
    "## Importing Required Libraries "
   ]
  },
  {
   "cell_type": "code",
   "execution_count": 1,
   "id": "f45c1a2e",
   "metadata": {},
   "outputs": [],
   "source": [
    "%matplotlib inline\n",
    "import pandas as pd\n",
    "import numpy as np\n",
    "import seaborn as sns\n",
    "from sklearn import linear_model\n",
    "import matplotlib.pyplot as plt"
   ]
  },
  {
   "cell_type": "markdown",
   "id": "e7672fba",
   "metadata": {},
   "source": [
    "## Sklearn libraries\n",
    "\n",
    "1. Scikit-learn (Sklearn) is the most useful and robust library for machine learning in Python. It provides a selection of efficient tools for machine learning and statistical modeling including classification, regression, clustering and dimensionality reduction via a consistence interface in Python."
   ]
  },
  {
   "cell_type": "code",
   "execution_count": 33,
   "id": "2df36f48",
   "metadata": {},
   "outputs": [],
   "source": [
    "from sklearn.metrics import \\\n",
    "    r2_score, get_scorer\n",
    "from sklearn.linear_model import \\\n",
    "    Lasso, Ridge, LassoCV,LinearRegression\n",
    "from sklearn.preprocessing import \\\n",
    "    StandardScaler, PolynomialFeatures\n",
    "from sklearn.model_selection import \\\n",
    "    KFold, RepeatedKFold, GridSearchCV, \\\n",
    "    cross_validate, train_test_split\n"
   ]
  },
  {
   "cell_type": "markdown",
   "id": "493cf470",
   "metadata": {},
   "source": [
    "## Importing Dataset into Pandas\n",
    "\n",
    "1. This is a type of encoding and is used to solve the UnicodeDecodeError, while attempting to read a file in Python or Pandas.\n",
    "\n",
    "    latin-1 is a single-byte encoding which uses the characters 0 through 127, so it can encode half as many characters as latin1. It's a strict subset of both latin1 and utf8, meaning the bytes 0 through 127 in both latin1 and utf8 encode the same things as they do in ASCII."
   ]
  },
  {
   "cell_type": "code",
   "execution_count": 2,
   "id": "1f052524",
   "metadata": {},
   "outputs": [
    {
     "data": {
      "text/html": [
       "<div>\n",
       "<style scoped>\n",
       "    .dataframe tbody tr th:only-of-type {\n",
       "        vertical-align: middle;\n",
       "    }\n",
       "\n",
       "    .dataframe tbody tr th {\n",
       "        vertical-align: top;\n",
       "    }\n",
       "\n",
       "    .dataframe thead th {\n",
       "        text-align: right;\n",
       "    }\n",
       "</style>\n",
       "<table border=\"1\" class=\"dataframe\">\n",
       "  <thead>\n",
       "    <tr style=\"text-align: right;\">\n",
       "      <th></th>\n",
       "      <th>avgAnnCount</th>\n",
       "      <th>avgDeathsPerYear</th>\n",
       "      <th>TARGET_deathRate</th>\n",
       "      <th>incidenceRate</th>\n",
       "      <th>medIncome</th>\n",
       "      <th>popEst2015</th>\n",
       "      <th>povertyPercent</th>\n",
       "      <th>studyPerCap</th>\n",
       "      <th>binnedInc</th>\n",
       "      <th>MedianAge</th>\n",
       "      <th>...</th>\n",
       "      <th>PctPrivateCoverageAlone</th>\n",
       "      <th>PctEmpPrivCoverage</th>\n",
       "      <th>PctPublicCoverage</th>\n",
       "      <th>PctPublicCoverageAlone</th>\n",
       "      <th>PctWhite</th>\n",
       "      <th>PctBlack</th>\n",
       "      <th>PctAsian</th>\n",
       "      <th>PctOtherRace</th>\n",
       "      <th>PctMarriedHouseholds</th>\n",
       "      <th>BirthRate</th>\n",
       "    </tr>\n",
       "  </thead>\n",
       "  <tbody>\n",
       "    <tr>\n",
       "      <th>0</th>\n",
       "      <td>1397.0</td>\n",
       "      <td>469</td>\n",
       "      <td>164.9</td>\n",
       "      <td>489.8</td>\n",
       "      <td>61898</td>\n",
       "      <td>260131</td>\n",
       "      <td>11.2</td>\n",
       "      <td>499.748204</td>\n",
       "      <td>(61494.5, 125635]</td>\n",
       "      <td>39.3</td>\n",
       "      <td>...</td>\n",
       "      <td>NaN</td>\n",
       "      <td>41.6</td>\n",
       "      <td>32.9</td>\n",
       "      <td>14.0</td>\n",
       "      <td>81.780529</td>\n",
       "      <td>2.594728</td>\n",
       "      <td>4.821857</td>\n",
       "      <td>1.843479</td>\n",
       "      <td>52.856076</td>\n",
       "      <td>6.118831</td>\n",
       "    </tr>\n",
       "    <tr>\n",
       "      <th>1</th>\n",
       "      <td>173.0</td>\n",
       "      <td>70</td>\n",
       "      <td>161.3</td>\n",
       "      <td>411.6</td>\n",
       "      <td>48127</td>\n",
       "      <td>43269</td>\n",
       "      <td>18.6</td>\n",
       "      <td>23.111234</td>\n",
       "      <td>(48021.6, 51046.4]</td>\n",
       "      <td>33.0</td>\n",
       "      <td>...</td>\n",
       "      <td>53.8</td>\n",
       "      <td>43.6</td>\n",
       "      <td>31.1</td>\n",
       "      <td>15.3</td>\n",
       "      <td>89.228509</td>\n",
       "      <td>0.969102</td>\n",
       "      <td>2.246233</td>\n",
       "      <td>3.741352</td>\n",
       "      <td>45.372500</td>\n",
       "      <td>4.333096</td>\n",
       "    </tr>\n",
       "    <tr>\n",
       "      <th>2</th>\n",
       "      <td>102.0</td>\n",
       "      <td>50</td>\n",
       "      <td>174.7</td>\n",
       "      <td>349.7</td>\n",
       "      <td>49348</td>\n",
       "      <td>21026</td>\n",
       "      <td>14.6</td>\n",
       "      <td>47.560164</td>\n",
       "      <td>(48021.6, 51046.4]</td>\n",
       "      <td>45.0</td>\n",
       "      <td>...</td>\n",
       "      <td>43.5</td>\n",
       "      <td>34.9</td>\n",
       "      <td>42.1</td>\n",
       "      <td>21.1</td>\n",
       "      <td>90.922190</td>\n",
       "      <td>0.739673</td>\n",
       "      <td>0.465898</td>\n",
       "      <td>2.747358</td>\n",
       "      <td>54.444868</td>\n",
       "      <td>3.729488</td>\n",
       "    </tr>\n",
       "    <tr>\n",
       "      <th>3</th>\n",
       "      <td>427.0</td>\n",
       "      <td>202</td>\n",
       "      <td>194.8</td>\n",
       "      <td>430.4</td>\n",
       "      <td>44243</td>\n",
       "      <td>75882</td>\n",
       "      <td>17.1</td>\n",
       "      <td>342.637253</td>\n",
       "      <td>(42724.4, 45201]</td>\n",
       "      <td>42.8</td>\n",
       "      <td>...</td>\n",
       "      <td>40.3</td>\n",
       "      <td>35.0</td>\n",
       "      <td>45.3</td>\n",
       "      <td>25.0</td>\n",
       "      <td>91.744686</td>\n",
       "      <td>0.782626</td>\n",
       "      <td>1.161359</td>\n",
       "      <td>1.362643</td>\n",
       "      <td>51.021514</td>\n",
       "      <td>4.603841</td>\n",
       "    </tr>\n",
       "    <tr>\n",
       "      <th>4</th>\n",
       "      <td>57.0</td>\n",
       "      <td>26</td>\n",
       "      <td>144.4</td>\n",
       "      <td>350.1</td>\n",
       "      <td>49955</td>\n",
       "      <td>10321</td>\n",
       "      <td>12.5</td>\n",
       "      <td>0.000000</td>\n",
       "      <td>(48021.6, 51046.4]</td>\n",
       "      <td>48.3</td>\n",
       "      <td>...</td>\n",
       "      <td>43.9</td>\n",
       "      <td>35.1</td>\n",
       "      <td>44.0</td>\n",
       "      <td>22.7</td>\n",
       "      <td>94.104024</td>\n",
       "      <td>0.270192</td>\n",
       "      <td>0.665830</td>\n",
       "      <td>0.492135</td>\n",
       "      <td>54.027460</td>\n",
       "      <td>6.796657</td>\n",
       "    </tr>\n",
       "  </tbody>\n",
       "</table>\n",
       "<p>5 rows × 34 columns</p>\n",
       "</div>"
      ],
      "text/plain": [
       "   avgAnnCount  avgDeathsPerYear  TARGET_deathRate  incidenceRate  medIncome  \\\n",
       "0       1397.0               469             164.9          489.8      61898   \n",
       "1        173.0                70             161.3          411.6      48127   \n",
       "2        102.0                50             174.7          349.7      49348   \n",
       "3        427.0               202             194.8          430.4      44243   \n",
       "4         57.0                26             144.4          350.1      49955   \n",
       "\n",
       "   popEst2015  povertyPercent  studyPerCap           binnedInc  MedianAge  \\\n",
       "0      260131            11.2   499.748204   (61494.5, 125635]       39.3   \n",
       "1       43269            18.6    23.111234  (48021.6, 51046.4]       33.0   \n",
       "2       21026            14.6    47.560164  (48021.6, 51046.4]       45.0   \n",
       "3       75882            17.1   342.637253    (42724.4, 45201]       42.8   \n",
       "4       10321            12.5     0.000000  (48021.6, 51046.4]       48.3   \n",
       "\n",
       "   ...  PctPrivateCoverageAlone  PctEmpPrivCoverage PctPublicCoverage  \\\n",
       "0  ...                      NaN                41.6              32.9   \n",
       "1  ...                     53.8                43.6              31.1   \n",
       "2  ...                     43.5                34.9              42.1   \n",
       "3  ...                     40.3                35.0              45.3   \n",
       "4  ...                     43.9                35.1              44.0   \n",
       "\n",
       "   PctPublicCoverageAlone   PctWhite  PctBlack  PctAsian  PctOtherRace  \\\n",
       "0                    14.0  81.780529  2.594728  4.821857      1.843479   \n",
       "1                    15.3  89.228509  0.969102  2.246233      3.741352   \n",
       "2                    21.1  90.922190  0.739673  0.465898      2.747358   \n",
       "3                    25.0  91.744686  0.782626  1.161359      1.362643   \n",
       "4                    22.7  94.104024  0.270192  0.665830      0.492135   \n",
       "\n",
       "   PctMarriedHouseholds  BirthRate  \n",
       "0             52.856076   6.118831  \n",
       "1             45.372500   4.333096  \n",
       "2             54.444868   3.729488  \n",
       "3             51.021514   4.603841  \n",
       "4             54.027460   6.796657  \n",
       "\n",
       "[5 rows x 34 columns]"
      ]
     },
     "execution_count": 2,
     "metadata": {},
     "output_type": "execute_result"
    }
   ],
   "source": [
    "df= pd.read_csv('cancer.csv',encoding='latin-1')\n",
    "df.head()"
   ]
  },
  {
   "cell_type": "code",
   "execution_count": 3,
   "id": "866fa096",
   "metadata": {},
   "outputs": [
    {
     "data": {
      "text/plain": [
       "avgAnnCount                   0\n",
       "avgDeathsPerYear              0\n",
       "TARGET_deathRate              0\n",
       "incidenceRate                 0\n",
       "medIncome                     0\n",
       "popEst2015                    0\n",
       "povertyPercent                0\n",
       "studyPerCap                   0\n",
       "binnedInc                     0\n",
       "MedianAge                     0\n",
       "MedianAgeMale                 0\n",
       "MedianAgeFemale               0\n",
       "Geography                     0\n",
       "AvgHouseholdSize              0\n",
       "PercentMarried                0\n",
       "PctNoHS18_24                  0\n",
       "PctHS18_24                    0\n",
       "PctSomeCol18_24            2285\n",
       "PctBachDeg18_24               0\n",
       "PctHS25_Over                  0\n",
       "PctBachDeg25_Over             0\n",
       "PctEmployed16_Over          152\n",
       "PctUnemployed16_Over          0\n",
       "PctPrivateCoverage            0\n",
       "PctPrivateCoverageAlone     609\n",
       "PctEmpPrivCoverage            0\n",
       "PctPublicCoverage             0\n",
       "PctPublicCoverageAlone        0\n",
       "PctWhite                      0\n",
       "PctBlack                      0\n",
       "PctAsian                      0\n",
       "PctOtherRace                  0\n",
       "PctMarriedHouseholds          0\n",
       "BirthRate                     0\n",
       "dtype: int64"
      ]
     },
     "execution_count": 3,
     "metadata": {},
     "output_type": "execute_result"
    }
   ],
   "source": [
    "df.isnull().sum()"
   ]
  },
  {
   "cell_type": "code",
   "execution_count": 4,
   "id": "f2f23148",
   "metadata": {},
   "outputs": [
    {
     "data": {
      "text/plain": [
       "avgAnnCount                float64\n",
       "avgDeathsPerYear             int64\n",
       "TARGET_deathRate           float64\n",
       "incidenceRate              float64\n",
       "medIncome                    int64\n",
       "popEst2015                   int64\n",
       "povertyPercent             float64\n",
       "studyPerCap                float64\n",
       "binnedInc                   object\n",
       "MedianAge                  float64\n",
       "MedianAgeMale              float64\n",
       "MedianAgeFemale            float64\n",
       "Geography                   object\n",
       "AvgHouseholdSize           float64\n",
       "PercentMarried             float64\n",
       "PctNoHS18_24               float64\n",
       "PctHS18_24                 float64\n",
       "PctSomeCol18_24            float64\n",
       "PctBachDeg18_24            float64\n",
       "PctHS25_Over               float64\n",
       "PctBachDeg25_Over          float64\n",
       "PctEmployed16_Over         float64\n",
       "PctUnemployed16_Over       float64\n",
       "PctPrivateCoverage         float64\n",
       "PctPrivateCoverageAlone    float64\n",
       "PctEmpPrivCoverage         float64\n",
       "PctPublicCoverage          float64\n",
       "PctPublicCoverageAlone     float64\n",
       "PctWhite                   float64\n",
       "PctBlack                   float64\n",
       "PctAsian                   float64\n",
       "PctOtherRace               float64\n",
       "PctMarriedHouseholds       float64\n",
       "BirthRate                  float64\n",
       "dtype: object"
      ]
     },
     "execution_count": 4,
     "metadata": {},
     "output_type": "execute_result"
    }
   ],
   "source": [
    "df.dtypes"
   ]
  },
  {
   "cell_type": "markdown",
   "id": "929bda26",
   "metadata": {},
   "source": [
    "##  After the Exploration of data,\n",
    "### What we got to know\n",
    "1.Shape or our data.\n",
    "\n",
    "2.Null / Missing values in our Dataset.\n"
   ]
  },
  {
   "cell_type": "markdown",
   "id": "10ca95b7",
   "metadata": {},
   "source": [
    "## Visualizing the Data,\n",
    "\n",
    "1.From Seaborn Countplot.\n",
    "\n",
    "2.Heatmap for viewing the strength and directions.\n",
    "\n",
    "3.By this we able to see Positive/Negative correlation between feature."
   ]
  },
  {
   "cell_type": "code",
   "execution_count": 34,
   "id": "a6cfbe33",
   "metadata": {},
   "outputs": [
    {
     "name": "stderr",
     "output_type": "stream",
     "text": [
      "C:\\Users\\Trapti\\AppData\\Local\\Programs\\Python\\Python39\\lib\\site-packages\\seaborn\\distributions.py:2619: FutureWarning: `distplot` is a deprecated function and will be removed in a future version. Please adapt your code to use either `displot` (a figure-level function with similar flexibility) or `histplot` (an axes-level function for histograms).\n",
      "  warnings.warn(msg, FutureWarning)\n"
     ]
    },
    {
     "data": {
      "text/plain": [
       "<AxesSubplot:xlabel='TARGET_deathRate', ylabel='Density'>"
      ]
     },
     "execution_count": 34,
     "metadata": {},
     "output_type": "execute_result"
    },
    {
     "data": {
      "image/png": "[encoded data removed]",
      "text/plain": [
       "<Figure size 432x288 with 1 Axes>"
      ]
     },
     "metadata": {
      "needs_background": "light"
     },
     "output_type": "display_data"
    }
   ],
   "source": [
    "sns.distplot(df.TARGET_deathRate, bins = 25)"
   ]
  },
  {
   "cell_type": "code",
   "execution_count": 39,
   "id": "91c7977a",
   "metadata": {},
   "outputs": [
    {
     "name": "stderr",
     "output_type": "stream",
     "text": [
      "C:\\Users\\Trapti\\AppData\\Local\\Programs\\Python\\Python39\\lib\\site-packages\\seaborn\\_decorators.py:36: FutureWarning: Pass the following variable as a keyword arg: x. From version 0.12, the only valid positional argument will be `data`, and passing other arguments without an explicit keyword will result in an error or misinterpretation.\n",
      "  warnings.warn(\n"
     ]
    },
    {
     "data": {
      "text/plain": [
       "<AxesSubplot:xlabel='TARGET_deathRate', ylabel='count'>"
      ]
     },
     "execution_count": 39,
     "metadata": {},
     "output_type": "execute_result"
    },
    {
     "data": {
      "image/png": "[encoded data removed]",
      "text/plain": [
       "<Figure size 432x288 with 1 Axes>"
      ]
     },
     "metadata": {
      "needs_background": "light"
     },
     "output_type": "display_data"
    }
   ],
   "source": [
    "sns.countplot(df.TARGET_deathRate)"
   ]
  },
  {
   "cell_type": "code",
   "execution_count": 6,
   "id": "b6802cad",
   "metadata": {},
   "outputs": [
    {
     "name": "stdout",
     "output_type": "stream",
     "text": [
      "TARGET_deathRate           1.000000\n",
      "PctBachDeg25_Over          0.485477\n",
      "incidenceRate              0.449432\n",
      "PctPublicCoverageAlone     0.449358\n",
      "povertyPercent             0.429389\n",
      "medIncome                  0.428615\n",
      "PctEmployed16_Over         0.412046\n",
      "PctHS25_Over               0.404589\n",
      "PctPublicCoverage          0.404572\n",
      "PctPrivateCoverage         0.386066\n",
      "PctUnemployed16_Over       0.378412\n",
      "PctPrivateCoverageAlone    0.363704\n",
      "PctMarriedHouseholds       0.293325\n",
      "PctBachDeg18_24            0.287817\n",
      "PctEmpPrivCoverage         0.267399\n",
      "PercentMarried             0.266820\n",
      "PctHS18_24                 0.261976\n",
      "PctBlack                   0.257024\n",
      "PctOtherRace               0.189894\n",
      "PctSomeCol18_24            0.188688\n",
      "PctAsian                   0.186331\n",
      "PctWhite                   0.177400\n",
      "avgAnnCount                0.143532\n",
      "popEst2015                 0.120073\n",
      "avgDeathsPerYear           0.090715\n",
      "PctNoHS18_24               0.088463\n",
      "BirthRate                  0.087407\n",
      "AvgHouseholdSize           0.036905\n",
      "studyPerCap                0.022285\n",
      "MedianAgeMale              0.021929\n",
      "MedianAgeFemale            0.012048\n",
      "MedianAge                  0.004375\n",
      "Name: TARGET_deathRate, dtype: float64\n"
     ]
    }
   ],
   "source": [
    "corr_matrix = abs(df.corr()) \n",
    "print(corr_matrix[\"TARGET_deathRate\"].sort_values(ascending=False))"
   ]
  },
  {
   "cell_type": "markdown",
   "id": "b3bdd053",
   "metadata": {},
   "source": [
    "## Feature Engineering part\n",
    "\n",
    "1.Filling the Null values\n",
    "\n",
    "2.Converting the categrical features into numeric for better performance of our Model.\n",
    "\n",
    "3.Dropping irrelevant Feature.\n",
    "\n",
    "4.Recheck the Data"
   ]
  },
  {
   "cell_type": "code",
   "execution_count": 7,
   "id": "1e266eff",
   "metadata": {},
   "outputs": [],
   "source": [
    "def fill_missing_values(df):\n",
    "    missing_val_columns = df.isnull().sum()[df.isnull().sum() > 0]\n",
    "    missing_val_columns = list(missing_val_columns.index)\n",
    "    for col in missing_val_columns:\n",
    "        mode = df[col].mode().iloc[0]\n",
    "        print(f\"Filling all values in {col} column with: {mode}\")\n",
    "        df[col] = df[col].fillna(mode)\n",
    "    return df"
   ]
  },
  {
   "cell_type": "code",
   "execution_count": 8,
   "id": "a3f6b1f7",
   "metadata": {},
   "outputs": [
    {
     "name": "stdout",
     "output_type": "stream",
     "text": [
      "Filling all values in PctSomeCol18_24 column with: 43.0\n",
      "Filling all values in PctEmployed16_Over column with: 48.9\n",
      "Filling all values in PctPrivateCoverageAlone column with: 53.0\n"
     ]
    }
   ],
   "source": [
    "df = fill_missing_values(df)"
   ]
  },
  {
   "cell_type": "code",
   "execution_count": 9,
   "id": "fa30fbe5",
   "metadata": {},
   "outputs": [],
   "source": [
    "from sklearn.preprocessing import LabelEncoder\n",
    "le = LabelEncoder()\n",
    "var_mod = df.select_dtypes(include='object').columns\n",
    "\n",
    "for i in var_mod:\n",
    "        df[i] = le.fit_transform(df[i])"
   ]
  },
  {
   "cell_type": "code",
   "execution_count": 10,
   "id": "cf4167cd",
   "metadata": {
    "scrolled": true
   },
   "outputs": [
    {
     "data": {
      "text/plain": [
       "avgAnnCount                0\n",
       "avgDeathsPerYear           0\n",
       "TARGET_deathRate           0\n",
       "incidenceRate              0\n",
       "medIncome                  0\n",
       "popEst2015                 0\n",
       "povertyPercent             0\n",
       "studyPerCap                0\n",
       "binnedInc                  0\n",
       "MedianAge                  0\n",
       "MedianAgeMale              0\n",
       "MedianAgeFemale            0\n",
       "Geography                  0\n",
       "AvgHouseholdSize           0\n",
       "PercentMarried             0\n",
       "PctNoHS18_24               0\n",
       "PctHS18_24                 0\n",
       "PctSomeCol18_24            0\n",
       "PctBachDeg18_24            0\n",
       "PctHS25_Over               0\n",
       "PctBachDeg25_Over          0\n",
       "PctEmployed16_Over         0\n",
       "PctUnemployed16_Over       0\n",
       "PctPrivateCoverage         0\n",
       "PctPrivateCoverageAlone    0\n",
       "PctEmpPrivCoverage         0\n",
       "PctPublicCoverage          0\n",
       "PctPublicCoverageAlone     0\n",
       "PctWhite                   0\n",
       "PctBlack                   0\n",
       "PctAsian                   0\n",
       "PctOtherRace               0\n",
       "PctMarriedHouseholds       0\n",
       "BirthRate                  0\n",
       "dtype: int64"
      ]
     },
     "execution_count": 10,
     "metadata": {},
     "output_type": "execute_result"
    }
   ],
   "source": [
    "df.isnull().sum()"
   ]
  },
  {
   "cell_type": "code",
   "execution_count": null,
   "id": "9d5f0e2f",
   "metadata": {},
   "outputs": [],
   "source": []
  },
  {
   "cell_type": "markdown",
   "id": "a31159ce",
   "metadata": {},
   "source": [
    "## Splitting the Dependent and Independent Feature into (X,y)"
   ]
  },
  {
   "cell_type": "code",
   "execution_count": 11,
   "id": "b2d017c5",
   "metadata": {},
   "outputs": [],
   "source": [
    "X = df.drop('TARGET_deathRate',axis=1)\n",
    "y = df.TARGET_deathRate"
   ]
  },
  {
   "cell_type": "code",
   "execution_count": 12,
   "id": "bf2a3409",
   "metadata": {},
   "outputs": [
    {
     "data": {
      "text/plain": [
       "((3047, 33), (3047,))"
      ]
     },
     "execution_count": 12,
     "metadata": {},
     "output_type": "execute_result"
    }
   ],
   "source": [
    "X.shape,y.shape"
   ]
  },
  {
   "cell_type": "code",
   "execution_count": 13,
   "id": "8596c0d2",
   "metadata": {},
   "outputs": [],
   "source": [
    "from sklearn.metrics import r2_score,mean_squared_error,mean_absolute_error\n",
    "from math import sqrt"
   ]
  },
  {
   "cell_type": "code",
   "execution_count": 14,
   "id": "d2a8b6c5",
   "metadata": {},
   "outputs": [],
   "source": [
    "from sklearn.model_selection import train_test_split\n",
    "X_train,X_test,y_train,y_test = train_test_split(X,y,test_size=0.25,random_state = 0)"
   ]
  },
  {
   "cell_type": "markdown",
   "id": "f9eecd62",
   "metadata": {},
   "source": [
    "###  1. Why is scaling important in ML?\n",
    "\n",
    "Image result for why using scaling in ML\n",
    "Feature scaling is essential for machine learning algorithms that calculate distances between data. ... The ML algorithm is sensitive to the “relative scales of features,” which usually happens when it uses the numeric values of the features rather than say their rank."
   ]
  },
  {
   "cell_type": "code",
   "execution_count": 30,
   "id": "bf15de68",
   "metadata": {},
   "outputs": [],
   "source": [
    "from sklearn.preprocessing import StandardScaler\n",
    "sc = StandardScaler()\n",
    "X_scaled = sc.fit_transform(X)\n",
    "X_scaled = pd.DataFrame(data = X_scaled, columns = X.columns)"
   ]
  },
  {
   "cell_type": "markdown",
   "id": "09fd73ca",
   "metadata": {},
   "source": [
    "## K-Fold Cross Validation\n",
    "\n",
    "In this method, we split the data-set into k number of subsets(known as folds) then we perform training on the all the subsets but leave one(k-1) subset for the evaluation of the trained model. In this method, we iterate k times with a different subset reserved for testing purpose each time."
   ]
  },
  {
   "cell_type": "code",
   "execution_count": 31,
   "id": "1171d7fa",
   "metadata": {},
   "outputs": [
    {
     "name": "stdout",
     "output_type": "stream",
     "text": [
      "MAE: -14.38836\n",
      "Config: {'alpha': 0.14}\n"
     ]
    }
   ],
   "source": [
    "cv = RepeatedKFold(n_splits=10, n_repeats=3, random_state=1)\n",
    "lasso_alphas = np.linspace(0, 0.2, 21)\n",
    "lasso = Lasso()\n",
    "grid = dict()\n",
    "grid['alpha'] = lasso_alphas\n",
    "gscv = GridSearchCV( \\\n",
    "    lasso, grid, scoring='neg_mean_absolute_error', \\\n",
    "    cv=cv, n_jobs=-1)\n",
    "results = gscv.fit(X, y)\n",
    "print('MAE: %.5f' % results.best_score_)\n",
    "print('Config: %s' % results.best_params_)"
   ]
  },
  {
   "cell_type": "markdown",
   "id": "ea6559c3",
   "metadata": {},
   "source": [
    "## Effect Of Alpha On Lasso Regression\n",
    "\n",
    "Lasso regression is a common modeling technique to do regularization. The math behind it is pretty interesting, but practically, what you need to know is that Lasso regression comes with a parameter, alpha, and the higher the alpha, the most feature coefficients are zero.\n",
    "\n",
    "That is, when alpha is 0, Lasso regression produces the same coefficients as a linear regression. When alpha is very very large, all coefficients are zero."
   ]
  },
  {
   "cell_type": "code",
   "execution_count": 32,
   "id": "f80a8a5c",
   "metadata": {},
   "outputs": [
    {
     "name": "stdout",
     "output_type": "stream",
     "text": [
      "alpha: 0.06\n"
     ]
    },
    {
     "name": "stderr",
     "output_type": "stream",
     "text": [
      "C:\\Users\\Trapti\\AppData\\Local\\Programs\\Python\\Python39\\lib\\site-packages\\sklearn\\linear_model\\_coordinate_descent.py:633: UserWarning: Coordinate descent with alpha=0 may lead to unexpected results and is discouraged.\n",
      "  model = cd_fast.enet_coordinate_descent_gram(\n",
      "C:\\Users\\Trapti\\AppData\\Local\\Programs\\Python\\Python39\\lib\\site-packages\\sklearn\\linear_model\\_coordinate_descent.py:633: ConvergenceWarning: Objective did not converge. You might want to increase the number of iterations. Duality gap: 487510.6116144564, tolerance: 208.63097057330415\n",
      "  model = cd_fast.enet_coordinate_descent_gram(\n",
      "C:\\Users\\Trapti\\AppData\\Local\\Programs\\Python\\Python39\\lib\\site-packages\\sklearn\\linear_model\\_coordinate_descent.py:633: UserWarning: Coordinate descent with alpha=0 may lead to unexpected results and is discouraged.\n",
      "  model = cd_fast.enet_coordinate_descent_gram(\n",
      "C:\\Users\\Trapti\\AppData\\Local\\Programs\\Python\\Python39\\lib\\site-packages\\sklearn\\linear_model\\_coordinate_descent.py:633: UserWarning: Coordinate descent with alpha=0 may lead to unexpected results and is discouraged.\n",
      "  model = cd_fast.enet_coordinate_descent_gram(\n",
      "C:\\Users\\Trapti\\AppData\\Local\\Programs\\Python\\Python39\\lib\\site-packages\\sklearn\\linear_model\\_coordinate_descent.py:633: UserWarning: Coordinate descent with alpha=0 may lead to unexpected results and is discouraged.\n",
      "  model = cd_fast.enet_coordinate_descent_gram(\n",
      "C:\\Users\\Trapti\\AppData\\Local\\Programs\\Python\\Python39\\lib\\site-packages\\sklearn\\linear_model\\_coordinate_descent.py:633: ConvergenceWarning: Objective did not converge. You might want to increase the number of iterations. Duality gap: 503813.6567687923, tolerance: 207.69805818708974\n",
      "  model = cd_fast.enet_coordinate_descent_gram(\n",
      "C:\\Users\\Trapti\\AppData\\Local\\Programs\\Python\\Python39\\lib\\site-packages\\sklearn\\linear_model\\_coordinate_descent.py:633: ConvergenceWarning: Objective did not converge. You might want to increase the number of iterations. Duality gap: 496755.3823239752, tolerance: 210.24373348978847\n",
      "  model = cd_fast.enet_coordinate_descent_gram(\n",
      "C:\\Users\\Trapti\\AppData\\Local\\Programs\\Python\\Python39\\lib\\site-packages\\sklearn\\linear_model\\_coordinate_descent.py:633: ConvergenceWarning: Objective did not converge. You might want to increase the number of iterations. Duality gap: 506524.8934451535, tolerance: 211.38918282458056\n",
      "  model = cd_fast.enet_coordinate_descent_gram(\n",
      "C:\\Users\\Trapti\\AppData\\Local\\Programs\\Python\\Python39\\lib\\site-packages\\sklearn\\linear_model\\_coordinate_descent.py:633: UserWarning: Coordinate descent with alpha=0 may lead to unexpected results and is discouraged.\n",
      "  model = cd_fast.enet_coordinate_descent_gram(\n",
      "C:\\Users\\Trapti\\AppData\\Local\\Programs\\Python\\Python39\\lib\\site-packages\\sklearn\\linear_model\\_coordinate_descent.py:633: UserWarning: Coordinate descent with alpha=0 may lead to unexpected results and is discouraged.\n",
      "  model = cd_fast.enet_coordinate_descent_gram(\n",
      "C:\\Users\\Trapti\\AppData\\Local\\Programs\\Python\\Python39\\lib\\site-packages\\sklearn\\linear_model\\_coordinate_descent.py:633: ConvergenceWarning: Objective did not converge. You might want to increase the number of iterations. Duality gap: 489214.744627381, tolerance: 209.04648520641862\n",
      "  model = cd_fast.enet_coordinate_descent_gram(\n",
      "C:\\Users\\Trapti\\AppData\\Local\\Programs\\Python\\Python39\\lib\\site-packages\\sklearn\\linear_model\\_coordinate_descent.py:633: UserWarning: Coordinate descent with alpha=0 may lead to unexpected results and is discouraged.\n",
      "  model = cd_fast.enet_coordinate_descent_gram(\n",
      "C:\\Users\\Trapti\\AppData\\Local\\Programs\\Python\\Python39\\lib\\site-packages\\sklearn\\linear_model\\_coordinate_descent.py:633: ConvergenceWarning: Objective did not converge. You might want to increase the number of iterations. Duality gap: 513438.13181047747, tolerance: 210.3988884989059\n",
      "  model = cd_fast.enet_coordinate_descent_gram(\n",
      "C:\\Users\\Trapti\\AppData\\Local\\Programs\\Python\\Python39\\lib\\site-packages\\sklearn\\linear_model\\_coordinate_descent.py:633: UserWarning: Coordinate descent with alpha=0 may lead to unexpected results and is discouraged.\n",
      "  model = cd_fast.enet_coordinate_descent_gram(\n",
      "C:\\Users\\Trapti\\AppData\\Local\\Programs\\Python\\Python39\\lib\\site-packages\\sklearn\\linear_model\\_coordinate_descent.py:633: ConvergenceWarning: Objective did not converge. You might want to increase the number of iterations. Duality gap: 502386.1030899028, tolerance: 212.03343366460084\n",
      "  model = cd_fast.enet_coordinate_descent_gram(\n",
      "C:\\Users\\Trapti\\AppData\\Local\\Programs\\Python\\Python39\\lib\\site-packages\\sklearn\\linear_model\\_coordinate_descent.py:633: ConvergenceWarning: Objective did not converge. You might want to increase the number of iterations. Duality gap: 509143.9344798955, tolerance: 213.13906487417938\n",
      "  model = cd_fast.enet_coordinate_descent_gram(\n",
      "C:\\Users\\Trapti\\AppData\\Local\\Programs\\Python\\Python39\\lib\\site-packages\\sklearn\\linear_model\\_coordinate_descent.py:633: UserWarning: Coordinate descent with alpha=0 may lead to unexpected results and is discouraged.\n",
      "  model = cd_fast.enet_coordinate_descent_gram(\n",
      "C:\\Users\\Trapti\\AppData\\Local\\Programs\\Python\\Python39\\lib\\site-packages\\sklearn\\linear_model\\_coordinate_descent.py:633: UserWarning: Coordinate descent with alpha=0 may lead to unexpected results and is discouraged.\n",
      "  model = cd_fast.enet_coordinate_descent_gram(\n",
      "C:\\Users\\Trapti\\AppData\\Local\\Programs\\Python\\Python39\\lib\\site-packages\\sklearn\\linear_model\\_coordinate_descent.py:633: UserWarning: Coordinate descent with alpha=0 may lead to unexpected results and is discouraged.\n",
      "  model = cd_fast.enet_coordinate_descent_gram(\n",
      "C:\\Users\\Trapti\\AppData\\Local\\Programs\\Python\\Python39\\lib\\site-packages\\sklearn\\linear_model\\_coordinate_descent.py:633: UserWarning: Coordinate descent with alpha=0 may lead to unexpected results and is discouraged.\n",
      "  model = cd_fast.enet_coordinate_descent_gram(\n",
      "C:\\Users\\Trapti\\AppData\\Local\\Programs\\Python\\Python39\\lib\\site-packages\\sklearn\\linear_model\\_coordinate_descent.py:633: ConvergenceWarning: Objective did not converge. You might want to increase the number of iterations. Duality gap: 505514.00065347017, tolerance: 214.9689235391907\n",
      "  model = cd_fast.enet_coordinate_descent_gram(\n",
      "C:\\Users\\Trapti\\AppData\\Local\\Programs\\Python\\Python39\\lib\\site-packages\\sklearn\\linear_model\\_coordinate_descent.py:633: ConvergenceWarning: Objective did not converge. You might want to increase the number of iterations. Duality gap: 505451.49804914254, tolerance: 212.1824229048141\n",
      "  model = cd_fast.enet_coordinate_descent_gram(\n",
      "C:\\Users\\Trapti\\AppData\\Local\\Programs\\Python\\Python39\\lib\\site-packages\\sklearn\\linear_model\\_coordinate_descent.py:633: ConvergenceWarning: Objective did not converge. You might want to increase the number of iterations. Duality gap: 503043.2321850229, tolerance: 206.83169285083875\n",
      "  model = cd_fast.enet_coordinate_descent_gram(\n",
      "C:\\Users\\Trapti\\AppData\\Local\\Programs\\Python\\Python39\\lib\\site-packages\\sklearn\\linear_model\\_coordinate_descent.py:633: ConvergenceWarning: Objective did not converge. You might want to increase the number of iterations. Duality gap: 507839.6796423071, tolerance: 213.63207556981408\n",
      "  model = cd_fast.enet_coordinate_descent_gram(\n",
      "C:\\Users\\Trapti\\AppData\\Local\\Programs\\Python\\Python39\\lib\\site-packages\\sklearn\\linear_model\\_coordinate_descent.py:633: UserWarning: Coordinate descent with alpha=0 may lead to unexpected results and is discouraged.\n",
      "  model = cd_fast.enet_coordinate_descent_gram(\n",
      "C:\\Users\\Trapti\\AppData\\Local\\Programs\\Python\\Python39\\lib\\site-packages\\sklearn\\linear_model\\_coordinate_descent.py:633: UserWarning: Coordinate descent with alpha=0 may lead to unexpected results and is discouraged.\n",
      "  model = cd_fast.enet_coordinate_descent_gram(\n",
      "C:\\Users\\Trapti\\AppData\\Local\\Programs\\Python\\Python39\\lib\\site-packages\\sklearn\\linear_model\\_coordinate_descent.py:633: UserWarning: Coordinate descent with alpha=0 may lead to unexpected results and is discouraged.\n",
      "  model = cd_fast.enet_coordinate_descent_gram(\n",
      "C:\\Users\\Trapti\\AppData\\Local\\Programs\\Python\\Python39\\lib\\site-packages\\sklearn\\linear_model\\_coordinate_descent.py:633: ConvergenceWarning: Objective did not converge. You might want to increase the number of iterations. Duality gap: 503084.82297980343, tolerance: 214.01247021881855\n",
      "  model = cd_fast.enet_coordinate_descent_gram(\n",
      "C:\\Users\\Trapti\\AppData\\Local\\Programs\\Python\\Python39\\lib\\site-packages\\sklearn\\linear_model\\_coordinate_descent.py:633: UserWarning: Coordinate descent with alpha=0 may lead to unexpected results and is discouraged.\n",
      "  model = cd_fast.enet_coordinate_descent_gram(\n",
      "C:\\Users\\Trapti\\AppData\\Local\\Programs\\Python\\Python39\\lib\\site-packages\\sklearn\\linear_model\\_coordinate_descent.py:633: ConvergenceWarning: Objective did not converge. You might want to increase the number of iterations. Duality gap: 503474.43732534535, tolerance: 214.23211801167034\n",
      "  model = cd_fast.enet_coordinate_descent_gram(\n",
      "C:\\Users\\Trapti\\AppData\\Local\\Programs\\Python\\Python39\\lib\\site-packages\\sklearn\\linear_model\\_coordinate_descent.py:633: ConvergenceWarning: Objective did not converge. You might want to increase the number of iterations. Duality gap: 493986.27012732206, tolerance: 211.77031823960604\n",
      "  model = cd_fast.enet_coordinate_descent_gram(\n",
      "C:\\Users\\Trapti\\AppData\\Local\\Programs\\Python\\Python39\\lib\\site-packages\\sklearn\\linear_model\\_coordinate_descent.py:633: ConvergenceWarning: Objective did not converge. You might want to increase the number of iterations. Duality gap: 508095.34475405584, tolerance: 212.9956498541211\n",
      "  model = cd_fast.enet_coordinate_descent_gram(\n",
      "C:\\Users\\Trapti\\AppData\\Local\\Programs\\Python\\Python39\\lib\\site-packages\\sklearn\\linear_model\\_coordinate_descent.py:633: UserWarning: Coordinate descent with alpha=0 may lead to unexpected results and is discouraged.\n",
      "  model = cd_fast.enet_coordinate_descent_gram(\n",
      "C:\\Users\\Trapti\\AppData\\Local\\Programs\\Python\\Python39\\lib\\site-packages\\sklearn\\linear_model\\_coordinate_descent.py:633: UserWarning: Coordinate descent with alpha=0 may lead to unexpected results and is discouraged.\n",
      "  model = cd_fast.enet_coordinate_descent_gram(\n",
      "C:\\Users\\Trapti\\AppData\\Local\\Programs\\Python\\Python39\\lib\\site-packages\\sklearn\\linear_model\\_coordinate_descent.py:633: ConvergenceWarning: Objective did not converge. You might want to increase the number of iterations. Duality gap: 499392.3256292457, tolerance: 209.13315076331148\n",
      "  model = cd_fast.enet_coordinate_descent_gram(\n",
      "C:\\Users\\Trapti\\AppData\\Local\\Programs\\Python\\Python39\\lib\\site-packages\\sklearn\\linear_model\\_coordinate_descent.py:633: ConvergenceWarning: Objective did not converge. You might want to increase the number of iterations. Duality gap: 510221.0662408427, tolerance: 214.49668031790014\n",
      "  model = cd_fast.enet_coordinate_descent_gram(\n",
      "C:\\Users\\Trapti\\AppData\\Local\\Programs\\Python\\Python39\\lib\\site-packages\\sklearn\\linear_model\\_coordinate_descent.py:633: UserWarning: Coordinate descent with alpha=0 may lead to unexpected results and is discouraged.\n",
      "  model = cd_fast.enet_coordinate_descent_gram(\n",
      "C:\\Users\\Trapti\\AppData\\Local\\Programs\\Python\\Python39\\lib\\site-packages\\sklearn\\linear_model\\_coordinate_descent.py:633: UserWarning: Coordinate descent with alpha=0 may lead to unexpected results and is discouraged.\n",
      "  model = cd_fast.enet_coordinate_descent_gram(\n",
      "C:\\Users\\Trapti\\AppData\\Local\\Programs\\Python\\Python39\\lib\\site-packages\\sklearn\\linear_model\\_coordinate_descent.py:633: ConvergenceWarning: Objective did not converge. You might want to increase the number of iterations. Duality gap: 502750.94801769755, tolerance: 208.3941687830842\n",
      "  model = cd_fast.enet_coordinate_descent_gram(\n",
      "C:\\Users\\Trapti\\AppData\\Local\\Programs\\Python\\Python39\\lib\\site-packages\\sklearn\\linear_model\\_coordinate_descent.py:633: ConvergenceWarning: Objective did not converge. You might want to increase the number of iterations. Duality gap: 492560.6319350221, tolerance: 207.194868124681\n",
      "  model = cd_fast.enet_coordinate_descent_gram(\n",
      "C:\\Users\\Trapti\\AppData\\Local\\Programs\\Python\\Python39\\lib\\site-packages\\sklearn\\linear_model\\_coordinate_descent.py:633: UserWarning: Coordinate descent with alpha=0 may lead to unexpected results and is discouraged.\n",
      "  model = cd_fast.enet_coordinate_descent_gram(\n",
      "C:\\Users\\Trapti\\AppData\\Local\\Programs\\Python\\Python39\\lib\\site-packages\\sklearn\\linear_model\\_coordinate_descent.py:633: UserWarning: Coordinate descent with alpha=0 may lead to unexpected results and is discouraged.\n",
      "  model = cd_fast.enet_coordinate_descent_gram(\n",
      "C:\\Users\\Trapti\\AppData\\Local\\Programs\\Python\\Python39\\lib\\site-packages\\sklearn\\linear_model\\_coordinate_descent.py:633: ConvergenceWarning: Objective did not converge. You might want to increase the number of iterations. Duality gap: 505176.2311055565, tolerance: 213.41990927972282\n",
      "  model = cd_fast.enet_coordinate_descent_gram(\n",
      "C:\\Users\\Trapti\\AppData\\Local\\Programs\\Python\\Python39\\lib\\site-packages\\sklearn\\linear_model\\_coordinate_descent.py:633: ConvergenceWarning: Objective did not converge. You might want to increase the number of iterations. Duality gap: 508059.94913078006, tolerance: 210.41806482020422\n",
      "  model = cd_fast.enet_coordinate_descent_gram(\n",
      "C:\\Users\\Trapti\\AppData\\Local\\Programs\\Python\\Python39\\lib\\site-packages\\sklearn\\linear_model\\_coordinate_descent.py:633: UserWarning: Coordinate descent with alpha=0 may lead to unexpected results and is discouraged.\n",
      "  model = cd_fast.enet_coordinate_descent_gram(\n",
      "C:\\Users\\Trapti\\AppData\\Local\\Programs\\Python\\Python39\\lib\\site-packages\\sklearn\\linear_model\\_coordinate_descent.py:633: UserWarning: Coordinate descent with alpha=0 may lead to unexpected results and is discouraged.\n",
      "  model = cd_fast.enet_coordinate_descent_gram(\n",
      "C:\\Users\\Trapti\\AppData\\Local\\Programs\\Python\\Python39\\lib\\site-packages\\sklearn\\linear_model\\_coordinate_descent.py:633: ConvergenceWarning: Objective did not converge. You might want to increase the number of iterations. Duality gap: 494812.56600753544, tolerance: 212.8012505970095\n",
      "  model = cd_fast.enet_coordinate_descent_gram(\n",
      "C:\\Users\\Trapti\\AppData\\Local\\Programs\\Python\\Python39\\lib\\site-packages\\sklearn\\linear_model\\_coordinate_descent.py:633: ConvergenceWarning: Objective did not converge. You might want to increase the number of iterations. Duality gap: 489231.5932964657, tolerance: 211.72122540663756\n",
      "  model = cd_fast.enet_coordinate_descent_gram(\n",
      "C:\\Users\\Trapti\\AppData\\Local\\Programs\\Python\\Python39\\lib\\site-packages\\sklearn\\linear_model\\_coordinate_descent.py:633: UserWarning: Coordinate descent with alpha=0 may lead to unexpected results and is discouraged.\n",
      "  model = cd_fast.enet_coordinate_descent_gram(\n",
      "C:\\Users\\Trapti\\AppData\\Local\\Programs\\Python\\Python39\\lib\\site-packages\\sklearn\\linear_model\\_coordinate_descent.py:633: UserWarning: Coordinate descent with alpha=0 may lead to unexpected results and is discouraged.\n",
      "  model = cd_fast.enet_coordinate_descent_gram(\n",
      "C:\\Users\\Trapti\\AppData\\Local\\Programs\\Python\\Python39\\lib\\site-packages\\sklearn\\linear_model\\_coordinate_descent.py:633: ConvergenceWarning: Objective did not converge. You might want to increase the number of iterations. Duality gap: 493852.2249961421, tolerance: 207.94856483333328\n",
      "  model = cd_fast.enet_coordinate_descent_gram(\n",
      "C:\\Users\\Trapti\\AppData\\Local\\Programs\\Python\\Python39\\lib\\site-packages\\sklearn\\linear_model\\_coordinate_descent.py:633: ConvergenceWarning: Objective did not converge. You might want to increase the number of iterations. Duality gap: 506464.52957248944, tolerance: 212.99535677315828\n",
      "  model = cd_fast.enet_coordinate_descent_gram(\n",
      "C:\\Users\\Trapti\\AppData\\Local\\Programs\\Python\\Python39\\lib\\site-packages\\sklearn\\linear_model\\_coordinate_descent.py:633: UserWarning: Coordinate descent with alpha=0 may lead to unexpected results and is discouraged.\n",
      "  model = cd_fast.enet_coordinate_descent_gram(\n",
      "C:\\Users\\Trapti\\AppData\\Local\\Programs\\Python\\Python39\\lib\\site-packages\\sklearn\\linear_model\\_coordinate_descent.py:633: UserWarning: Coordinate descent with alpha=0 may lead to unexpected results and is discouraged.\n",
      "  model = cd_fast.enet_coordinate_descent_gram(\n",
      "C:\\Users\\Trapti\\AppData\\Local\\Programs\\Python\\Python39\\lib\\site-packages\\sklearn\\linear_model\\_coordinate_descent.py:633: ConvergenceWarning: Objective did not converge. You might want to increase the number of iterations. Duality gap: 512662.3795730474, tolerance: 212.76340297119944\n",
      "  model = cd_fast.enet_coordinate_descent_gram(\n",
      "C:\\Users\\Trapti\\AppData\\Local\\Programs\\Python\\Python39\\lib\\site-packages\\sklearn\\linear_model\\_coordinate_descent.py:633: ConvergenceWarning: Objective did not converge. You might want to increase the number of iterations. Duality gap: 497775.072552718, tolerance: 205.1386225138585\n",
      "  model = cd_fast.enet_coordinate_descent_gram(\n",
      "C:\\Users\\Trapti\\AppData\\Local\\Programs\\Python\\Python39\\lib\\site-packages\\sklearn\\linear_model\\_coordinate_descent.py:633: UserWarning: Coordinate descent with alpha=0 may lead to unexpected results and is discouraged.\n",
      "  model = cd_fast.enet_coordinate_descent_gram(\n",
      "C:\\Users\\Trapti\\AppData\\Local\\Programs\\Python\\Python39\\lib\\site-packages\\sklearn\\linear_model\\_coordinate_descent.py:633: UserWarning: Coordinate descent with alpha=0 may lead to unexpected results and is discouraged.\n",
      "  model = cd_fast.enet_coordinate_descent_gram(\n",
      "C:\\Users\\Trapti\\AppData\\Local\\Programs\\Python\\Python39\\lib\\site-packages\\sklearn\\linear_model\\_coordinate_descent.py:633: ConvergenceWarning: Objective did not converge. You might want to increase the number of iterations. Duality gap: 513034.38428467326, tolerance: 213.44130980459354\n",
      "  model = cd_fast.enet_coordinate_descent_gram(\n",
      "C:\\Users\\Trapti\\AppData\\Local\\Programs\\Python\\Python39\\lib\\site-packages\\sklearn\\linear_model\\_coordinate_descent.py:633: ConvergenceWarning: Objective did not converge. You might want to increase the number of iterations. Duality gap: 501233.73853715416, tolerance: 210.55478890411962\n",
      "  model = cd_fast.enet_coordinate_descent_gram(\n"
     ]
    }
   ],
   "source": [
    "lasso = LassoCV(alphas=lasso_alphas, cv=cv, n_jobs=-1)\n",
    "lasso.fit(X_scaled, y)\n",
    "print('alpha: %.2f' % lasso.alpha_)"
   ]
  },
  {
   "cell_type": "markdown",
   "id": "cd66c213",
   "metadata": {},
   "source": [
    "## Why we choose lasso model\n",
    "\n",
    "1. We can use LASSO to improve overfitting in models by selecting features. It works with Linear Regression, Logistic Regression and several other models. Essentially, if the model has coefficients, LASSO can be used. Unlike other feature selection techniques, the feature selection in LASSO is endogenous. I.e., it occurs inside of the model’s algorithm. Rather than looking at every combination of features or implementing step-wise subset selection, LASSO selects for features inside the algorithm, automatically generating subset selection.\n",
    "\n",
    "2. LASSO works by applying the L1 penalty to the loss function. Due to the shape of the constraint region implied by the L1 penalty, LASSO is likely to select spare estimates of the coefficients. I.e., some coefficients are likely to be set to 0, and in effect, the features are removed. The larger the penalty coefficient, the greater that tendency.\n",
    "\n",
    "\n",
    "3. Having fewer features often reduces overfitting in the model, which is likely to improve model interpretability. Improving a model’s complexity often decreases test error."
   ]
  },
  {
   "cell_type": "markdown",
   "id": "2398e4ab",
   "metadata": {},
   "source": [
    "## Thanks "
   ]
  }
 ],
 "metadata": {
  "kernelspec": {
   "display_name": "Python 3 (ipykernel)",
   "language": "python",
   "name": "python3"
  },
  "language_info": {
   "codemirror_mode": {
    "name": "ipython",
    "version": 3
   },
   "file_extension": ".py",
   "mimetype": "text/x-python",
   "name": "python",
   "nbconvert_exporter": "python",
   "pygments_lexer": "ipython3",
   "version": "3.9.7"
  }
 },
 "nbformat": 4,
 "nbformat_minor": 5
}
